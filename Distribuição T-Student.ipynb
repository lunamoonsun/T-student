{
 "cells": [
  {
   "cell_type": "markdown",
   "id": "e71059b1",
   "metadata": {},
   "source": [
    "# Distribuição T-Student"
   ]
  },
  {
   "cell_type": "code",
   "execution_count": 11,
   "id": "e3942ec9",
   "metadata": {},
   "outputs": [],
   "source": [
    "import numpy as np\n",
    "from scipy.stats import t, stats"
   ]
  },
  {
   "cell_type": "markdown",
   "id": "3c7872ef",
   "metadata": {},
   "source": [
    "Muito utilizada com poucos dados e variação não conhecida. É possível utilizar no lugar da distribuição normal. "
   ]
  },
  {
   "cell_type": "markdown",
   "id": "81525de2",
   "metadata": {},
   "source": [
    "Possuindo uma maior variabilidade, dado que a quantidade de dados é menor, dessa forma quando calculada a variação percebe-se que é maior que a distribuição normal."
   ]
  },
  {
   "cell_type": "markdown",
   "id": "824624ae",
   "metadata": {},
   "source": [
    "- É importante ressaltar que existem cálculos específicos para a distribuição do tipo t-student;\n",
    "- Utilizada para 30 ou menos dados;\n",
    "- Graus de liberdade: basicamente a quantidade de elementos. Quantidade de elemento - 1. "
   ]
  },
  {
   "cell_type": "code",
   "execution_count": 4,
   "id": "5803f417",
   "metadata": {},
   "outputs": [],
   "source": [
    "dados = np.array([149. , 160., 147., 189., 175., 168., 156.,160., 152.])"
   ]
  },
  {
   "cell_type": "code",
   "execution_count": 9,
   "id": "ee0a1cf2",
   "metadata": {},
   "outputs": [],
   "source": [
    "n = len(dados)\n",
    "media = dados.mean()\n",
    "std = np.std(dados) # desvio padrao\n",
    "df = n - 1 # degrees of freedon"
   ]
  },
  {
   "cell_type": "markdown",
   "id": "5607bb6d",
   "metadata": {},
   "source": [
    "### Utilizando os cálculos da distribuição t-student "
   ]
  },
  {
   "cell_type": "code",
   "execution_count": 12,
   "id": "137364ed",
   "metadata": {},
   "outputs": [],
   "source": [
    "# Intervalos de confiança e classificação\n",
    "intervalos = t.interval(0.95, df, media, stats.sem(dados, ddof=0)) \n",
    "\n",
    "# ddof está relacionado aos graus de liberdade e nesse caso não vamos usar\n",
    "# pois há poucos registros"
   ]
  },
  {
   "cell_type": "code",
   "execution_count": 13,
   "id": "6a21b8a7",
   "metadata": {},
   "outputs": [
    {
     "data": {
      "text/plain": [
       "(151.9488554388298, 171.60670011672573)"
      ]
     },
     "execution_count": 13,
     "metadata": {},
     "output_type": "execute_result"
    }
   ],
   "source": [
    "intervalos"
   ]
  },
  {
   "cell_type": "code",
   "execution_count": 16,
   "id": "e6057b8d",
   "metadata": {},
   "outputs": [
    {
     "data": {
      "text/plain": [
       "9.828922338947962"
      ]
     },
     "execution_count": 16,
     "metadata": {},
     "output_type": "execute_result"
    }
   ],
   "source": [
    "# margem de erro\n",
    "margem_erro = media - intervalos[0]\n",
    "margem_erro # Observa-se os intervalos a esquerda e direita "
   ]
  },
  {
   "cell_type": "code",
   "execution_count": null,
   "id": "3e6a88e4",
   "metadata": {},
   "outputs": [],
   "source": []
  }
 ],
 "metadata": {
  "kernelspec": {
   "display_name": "Python 3",
   "language": "python",
   "name": "python3"
  },
  "language_info": {
   "codemirror_mode": {
    "name": "ipython",
    "version": 3
   },
   "file_extension": ".py",
   "mimetype": "text/x-python",
   "name": "python",
   "nbconvert_exporter": "python",
   "pygments_lexer": "ipython3",
   "version": "3.8.8"
  }
 },
 "nbformat": 4,
 "nbformat_minor": 5
}
